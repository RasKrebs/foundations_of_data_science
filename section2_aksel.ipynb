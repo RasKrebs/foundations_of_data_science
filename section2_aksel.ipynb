{
 "cells": [
  {
   "cell_type": "code",
   "execution_count": 25,
   "metadata": {},
   "outputs": [],
   "source": [
    "class DiplomaProgramme:\n",
    "    def __init__(self, programme_name):\n",
    "        self.programme_name = programme_name\n",
    "        self.course_list = []\n",
    "    \n",
    "    def add_course(self, course_to_add):\n",
    "        if course_to_add not in self.course_list:\n",
    "            self.course_list.append(course_to_add)\n",
    "        else:\n",
    "            print('Course already in the curriculum')\n",
    "    \n",
    "    def remove_course(self, course_to_remove):\n",
    "        if course_to_remove in self.course_list:\n",
    "            self.course_list.remove(course_to_remove)\n",
    "        else:\n",
    "            print('Course not in the curriculum')\n",
    "    \n",
    "    def passed_students(self):\n",
    "\n",
    "        list_of_passed_students = []\n",
    "        list_of_passed_students_distinction = []\n",
    "        list_of_not_passed_students = []\n",
    "\n",
    "        #creating list of all students in programme.\n",
    "        total_student_list = []\n",
    "        for course in self.course_list:\n",
    "            for student in course.student_list:\n",
    "                if student not in total_student_list:\n",
    "                    total_student_list.append(student)\n",
    "        \n",
    "        for student in total_student_list:\n",
    "            if len(student.assigned_courses) == len(self.course_list):\n",
    "                distinction_counter = 0\n",
    "                passed = 1\n",
    "                for course in student.assigned_courses:\n",
    "                    if course['grades'].count('pass') >= 3:\n",
    "                        distinction_counter += course['grades'].count('pass')\n",
    "                    else:\n",
    "                        passed = 0\n",
    "                        break\n",
    "                \n",
    "                if distinction_counter >= 17:\n",
    "                    list_of_passed_students_distinction.append(student)\n",
    "                elif passed:\n",
    "                    list_of_passed_students.append(student)\n",
    "                else:\n",
    "                    list_of_not_passed_students.append(student)\n",
    "            else:\n",
    "                print(f'{student.name} is not signed up for enough courses')\n",
    "                break\n",
    "        list_of_lists = [list_of_passed_students_distinction, list_of_passed_students, list_of_not_passed_students]\n",
    "        for list in list_of_lists:\n",
    "            for student in list:\n",
    "                if list == list_of_lists[0]:\n",
    "                    print(f'{student.name} has passed with distinction')\n",
    "                elif list == list_of_lists[1]:\n",
    "                    print(f'{student.name} has passed')\n",
    "                else:\n",
    "                    print(f'{student.name} has not passed')\n",
    "\n"
   ]
  },
  {
   "cell_type": "code",
   "execution_count": 26,
   "metadata": {},
   "outputs": [],
   "source": [
    "class Course:\n",
    "    def __init__(self, course_name, program):\n",
    "        self.course_name = course_name\n",
    "        self.student_list = []\n",
    "        program.add_course(self)\n",
    "\n",
    "    def add_student(self, student):\n",
    "        if student not in self.student_list:\n",
    "            self.student_list.append(student)\n",
    "            student.join_course(self)\n",
    "        else:\n",
    "            print('Student already in the course')\n",
    "\n",
    "    def remove_student(self, student):\n",
    "        if student in self.student_list:\n",
    "            self.student_list.remove(student)\n",
    "            student.remove_course(self)\n",
    "        else:\n",
    "            print('Student not in the course')\n",
    "\n",
    "    def grade_student(self, grade, student_UUID):\n",
    "        #Should go through all the students and find the correct student,\n",
    "        #check through their courses and then append the grade to their 'grades' list\n",
    "        print(\"grading...\")\n",
    "        for student in self.student_list:\n",
    "            if student_UUID == student.UUID:\n",
    "                student.add_grade(self, grade)\n"
   ]
  },
  {
   "cell_type": "code",
   "execution_count": 27,
   "metadata": {},
   "outputs": [],
   "source": [
    "class Student:\n",
    "    def __init__(self, f_name, l_name, UUID):\n",
    "        self.f_name = f_name\n",
    "        self.l_name = l_name\n",
    "        self.UUID = UUID\n",
    "        self.name = f_name + l_name\n",
    "        self.assigned_courses = []\n",
    "    \n",
    "    def join_course(self, course_to_join):\n",
    "        already_signed_up = 0\n",
    "        for course in self.assigned_courses:\n",
    "            if course['course'] == course_to_join:\n",
    "                already_signed_up = 1\n",
    "        if already_signed_up == 0:\n",
    "            self.assigned_courses.append(\n",
    "                {'course': course_to_join,\n",
    "                 'grades': []}\n",
    "            )\n",
    "        else:\n",
    "            print('student already signed up to course')\n",
    "\n",
    "    def remove_course(self, course_to_remove):\n",
    "        for course in self.assigned_courses:\n",
    "            if course['course'] == course_to_remove:\n",
    "                self.assigned_courses.remove(course)\n",
    "    \n",
    "    def add_grade(self, passed_course, grade):\n",
    "        for course in self.assigned_courses:\n",
    "            if course['course'] == passed_course:\n",
    "                #could add a check to see whether there are the maximum amount of grades\n",
    "                if len(course['grades']) < 5:\n",
    "                    course['grades'].append(grade)\n",
    "                    print(f'{self.name} graded')\n",
    "                else:\n",
    "                    print(f'{self.name} already has maximum amount of grades')\n",
    "    \n",
    "    def assignment_status(self):\n",
    "        for course in self.assigned_courses:\n",
    "            info = ''\n",
    "            for grade in course['grades']:\n",
    "                if grade is not None:\n",
    "                    info += f', {grade}'\n",
    "                else:\n",
    "                    info += f', No grade'\n",
    "            info = 'for the ' + course['course'].course_name + f' course, {self.name} has the following grades: ' + info\n",
    "            print(info)\n",
    "\n",
    "    "
   ]
  },
  {
   "cell_type": "code",
   "execution_count": 28,
   "metadata": {},
   "outputs": [],
   "source": [
    "#Setting up the test objects\n",
    "#programme\n",
    "data_science = DiplomaProgramme('data_science')\n",
    "\n",
    "#courses\n",
    "python = Course('Python', data_science)\n",
    "dm = Course('Data mining', data_science)\n",
    "va = Course('Visual Analytics', data_science)\n",
    "ta = Course('Text Analytics', data_science)\n",
    "\n",
    "#students\n",
    "jacob = Student('jacob', 'hansen', 1)\n",
    "john = Student('john', 'doe', 2)\n",
    "\n",
    "\n"
   ]
  },
  {
   "cell_type": "code",
   "execution_count": 29,
   "metadata": {},
   "outputs": [
    {
     "name": "stdout",
     "output_type": "stream",
     "text": [
      "grading...\n",
      "jacobhansen graded\n",
      "grading...\n",
      "jacobhansen graded\n",
      "grading...\n",
      "johndoe graded\n",
      "grading...\n",
      "jacobhansen graded\n",
      "grading...\n",
      "jacobhansen graded\n"
     ]
    }
   ],
   "source": [
    "#Testing methods:\n",
    "\n",
    "#Adding students:\n",
    "python.add_student(jacob)\n",
    "python.add_student(john)\n",
    "va.add_student(jacob)\n",
    "dm.add_student(jacob)\n",
    "ta.add_student(jacob)\n",
    "\n",
    "#print(python.student_list[1].UUID)\n",
    "\n",
    "\n",
    "va.grade_student('pass', 1)\n",
    "python.grade_student('pass', 1)\n",
    "python.grade_student('pass', 2)\n",
    "ta.grade_student('pass', 1)\n",
    "dm.grade_student('pass', 1)"
   ]
  },
  {
   "cell_type": "code",
   "execution_count": 30,
   "metadata": {},
   "outputs": [
    {
     "name": "stdout",
     "output_type": "stream",
     "text": [
      "for the Python course, johndoe has the following grades: , pass\n"
     ]
    }
   ],
   "source": [
    "john.assignment_status()"
   ]
  },
  {
   "cell_type": "code",
   "execution_count": 31,
   "metadata": {},
   "outputs": [
    {
     "name": "stdout",
     "output_type": "stream",
     "text": [
      "johndoe is not signed up for enough courses\n",
      "jacobhansen has not passed\n",
      "None\n"
     ]
    }
   ],
   "source": [
    "print(data_science.passed_students())"
   ]
  },
  {
   "cell_type": "code",
   "execution_count": 32,
   "metadata": {},
   "outputs": [
    {
     "name": "stdout",
     "output_type": "stream",
     "text": [
      "for the Python course, jacobhansen has the following grades: , pass\n",
      "for the Visual Analytics course, jacobhansen has the following grades: , pass\n",
      "for the Data mining course, jacobhansen has the following grades: , pass\n",
      "for the Text Analytics course, jacobhansen has the following grades: , pass\n",
      "pop\n",
      "for the Python course, jacobhansen has the following grades: , pass\n",
      "for the Data mining course, jacobhansen has the following grades: , pass\n",
      "for the Text Analytics course, jacobhansen has the following grades: , pass\n"
     ]
    }
   ],
   "source": [
    "jacob.assignment_status()\n",
    "va.remove_student(jacob)\n",
    "print(\"pop\")\n",
    "jacob.assignment_status()"
   ]
  },
  {
   "cell_type": "code",
   "execution_count": null,
   "metadata": {},
   "outputs": [],
   "source": []
  }
 ],
 "metadata": {
  "kernelspec": {
   "display_name": "Python 3.10.2 ('python-portfolio-project-1dAyuNWm')",
   "language": "python",
   "name": "python3"
  },
  "language_info": {
   "codemirror_mode": {
    "name": "ipython",
    "version": 3
   },
   "file_extension": ".py",
   "mimetype": "text/x-python",
   "name": "python",
   "nbconvert_exporter": "python",
   "pygments_lexer": "ipython3",
   "version": "3.10.2"
  },
  "orig_nbformat": 4,
  "vscode": {
   "interpreter": {
    "hash": "62adb4b756694b70a8eb3b454dd9f7d8af58f583bf253386343c9b0fa33e4c98"
   }
  }
 },
 "nbformat": 4,
 "nbformat_minor": 2
}
