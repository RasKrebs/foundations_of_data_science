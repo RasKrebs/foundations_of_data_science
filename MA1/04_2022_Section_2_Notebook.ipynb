{
 "cells": [
  {
   "cell_type": "markdown",
   "metadata": {},
   "source": [
    "# Section 2\n",
    "### *Object-oriented Programing*"
   ]
  },
  {
   "cell_type": "code",
   "execution_count": 1,
   "metadata": {},
   "outputs": [],
   "source": [
    "# import libaries\n",
    "\n",
    "## No libaries needed"
   ]
  },
  {
   "cell_type": "markdown",
   "metadata": {},
   "source": [
    "## Creating Classes"
   ]
  },
  {
   "cell_type": "markdown",
   "metadata": {},
   "source": [
    "### Diploma Program Class"
   ]
  },
  {
   "cell_type": "code",
   "execution_count": 65,
   "metadata": {},
   "outputs": [],
   "source": [
    "class DiplomaProgram:\n",
    "    \n",
    "    #Constructor\n",
    "    def __init__(self, name):\n",
    "        self.name = name\n",
    "        self.courses = []\n",
    "        self.graduated_students = []\n",
    "        self.students_with_distinction = []\n",
    "        self.students_who_failed = []\n",
    "        \n",
    "    # Adding Course Function\n",
    "    def add_course(self, course):\n",
    "        \n",
    "        #Ensuring course does not already exists in list of courses\n",
    "        if course.name in self.courses:\n",
    "            return\n",
    "        else:\n",
    "            self.courses.append(course.name)\n",
    "    \n",
    "    # Remove course function\n",
    "    def remove_course(self, course):\n",
    "        self.courses.remove(course.name)\n",
    "    \n",
    "    # Adding student to graduate list, but ensuring student does not already exists\n",
    "    \n",
    "    #function for checking if student fulfill the requirements for graduation\n",
    "    def add_graduated_students(self, student):\n",
    "        # Failsafe, so that students are not added twice\n",
    "        if student.name in self.graduated_students:\n",
    "            \"\"\"\n",
    "            Eventhough a student have passed, we wan't to check if they have passed with \n",
    "            distinction, therefore we call the passed_with_distinction function as well\n",
    "            \"\"\"\n",
    "            self.passed_with_distinction(student)\n",
    "            return\n",
    "        elif len(student.passed_courses) == len(self.courses):\n",
    "            self.graduated_students.append(student.name)\n",
    "            self.passed_with_distinction(student)\n",
    "        else:\n",
    "            if student.name in self.students_who_failed:\n",
    "                return\n",
    "            else:\n",
    "                self.students_who_failed.append(student.name)\n",
    "    \n",
    "    # Function for checking if student fulfill the requirements for passing with distinction\n",
    "    def passed_with_distinction(self, student):\n",
    "        \"\"\"\n",
    "        Because any student that pass will be passed to this function, we want to ensure they are removed \n",
    "        from the list of students that have not passed\n",
    "        \"\"\"\n",
    "        \n",
    "        if student.name in self.students_who_failed:\n",
    "            self.students_who_failed.remove(student.name)\n",
    "        \n",
    "        #Seeing if student is already in list, and ending function if True\n",
    "        if student.name in self.students_with_distinction:\n",
    "            return\n",
    "        else: # Pass counter for checking if students fulfill passed with distinction requirements\n",
    "            pass_counter = 0\n",
    "            for x in student.grades.values():\n",
    "                for value in x:\n",
    "                    if value == 'Pass':\n",
    "                        pass_counter += 1\n",
    "            \n",
    "            if pass_counter >= 17:\n",
    "                self.students_with_distinction.append(student.name)\n",
    "            else:\n",
    "                return"
   ]
  },
  {
   "cell_type": "markdown",
   "metadata": {},
   "source": [
    "## Course Class"
   ]
  },
  {
   "cell_type": "code",
   "execution_count": 66,
   "metadata": {},
   "outputs": [],
   "source": [
    "class Course:\n",
    "    \n",
    "    #Initialize\n",
    "    def __init__(self, name, associated_program):\n",
    "        self.name = name\n",
    "        self.students = []\n",
    "        self.student_grades = {}\n",
    "        self.passed_students = []\n",
    "        \n",
    "        # We make sure to pass a graduate program at the initialization of the class. Both to access later, but also to make it so the courses is assigned to the corresponding program\n",
    "        self.program = associated_program\n",
    "        associated_program.add_course(self)\n",
    "        associated_program.graduated_students.clear() # To clear graduate students, if new course is added\n",
    "        \n",
    "\n",
    "    #add student to students list\n",
    "    def add_student(self, student):\n",
    "        \n",
    "        #checks if student already exist in list\n",
    "        if student in self.students:\n",
    "            return(print(f'student {student.name} already added to list of students'))\n",
    "        else:\n",
    "            \n",
    "            #adds student if student does not exists already\n",
    "            student.grades[self.name] = []\n",
    "            self.students.append(student)\n",
    "            self.student_grades[student] = []\n",
    "            \n",
    "            student.courses.append(self.name)\n",
    "    \n",
    "    #Remove student from course\n",
    "    def remove_student(self, student):\n",
    "        self.students.remove(student)\n",
    "    \n",
    "    #Add grade\n",
    "    def grade(self, student, result):\n",
    "        #Appending result to student key in the grades dictionary for all students\n",
    "        self.student_grades[student].append(result)\n",
    "        \n",
    "        #Appending grade to the respective students, in their grade dictionary under the key, defined by the course name\n",
    "        student.grades[self.name].append(result)\n",
    "        \n",
    "        #Calling funciton for students that have passed, every time a grade is added to update it.\n",
    "        self.student_that_pass(student)\n",
    "    \n",
    "    #Remove Grade\n",
    "    def remove_grade(self, student:object, number:int):\n",
    "        \"\"\"\n",
    "        Args:\n",
    "            student (object): Input student object\n",
    "            number (int): Refers to which number assignment, you wish to remove the grade for\n",
    "        \"\"\"\n",
    "        self.student_grades[student].pop(number-1)\n",
    "    \n",
    "    #Function for finding students that have passed\n",
    "    def student_that_pass(self, student):\n",
    "        # Checking if student has already passed\n",
    "        if student in self.passed_students:\n",
    "            self.program.add_graduated_students(student)\n",
    "            return\n",
    "        \n",
    "        # If pass count is greater then 3, than pass\n",
    "        elif self.student_grades[student].count('Pass') >= 3:\n",
    "            self.passed_students.append(student)\n",
    "            \n",
    "            #Appending course name to list of courses passed by student under the student\n",
    "            student.passed_courses.append(self.name)\n",
    "            \n",
    "            #Calling function under DiplomaProgram to run and see if student fullfill the obligations to pass the program\n",
    "            self.program.add_graduated_students(student)\n",
    "        else:\n",
    "            return\n"
   ]
  },
  {
   "cell_type": "markdown",
   "metadata": {},
   "source": [
    "## Student Class"
   ]
  },
  {
   "cell_type": "code",
   "execution_count": 67,
   "metadata": {},
   "outputs": [],
   "source": [
    "\n",
    "class Student:\n",
    "    def __init__(self, fName, lName, UUID):\n",
    "        self.fName = fName\n",
    "        self.lName = lName\n",
    "        self.name = fName + \" \" + lName\n",
    "        self.UUID = UUID\n",
    "        self.courses = []\n",
    "        self.grades = {}\n",
    "        self.passed_courses = []\n",
    "    \n",
    "    def __str__(self):\n",
    "        print(f\"Student Name: {self.name} \\nStudent Enrolled in: {', '.join(map(str, self.courses))}\\n\")\n",
    "        return"
   ]
  },
  {
   "cell_type": "markdown",
   "metadata": {},
   "source": [
    "# TEST"
   ]
  },
  {
   "cell_type": "code",
   "execution_count": 68,
   "metadata": {},
   "outputs": [],
   "source": [
    "### Creating Students\n",
    "\n",
    "jacob = Student('Jacob', 'Hansen', 1)\n",
    "william = Student('William', 'Fatcher', 2)\n",
    "john = Student('John', 'Doe', 3)\n",
    "doe = Student('Doe', 'John', 4)\n",
    "\n",
    "### Assingning to list (for looping through)\n",
    "student_list = [jacob, william, john, doe]"
   ]
  },
  {
   "cell_type": "code",
   "execution_count": 69,
   "metadata": {},
   "outputs": [],
   "source": [
    "#Creating Diploma Program With Associated Courses\n",
    "data_science = DiplomaProgram('Data Science')\n",
    "\n",
    "#Creating Courses\n",
    "python = Course('Python Programming Course', data_science)\n",
    "data = Course('Data Mining and Machine Learning Course', data_science)\n",
    "va = Course('Visual Analytics', data_science)\n",
    "ta = Course('Text Analytics', data_science)\n",
    "for_deletion = Course('This Will Be Deleted', data_science)\n",
    "\n",
    "\n",
    "course_list = [python, data, va, ta]"
   ]
  },
  {
   "cell_type": "code",
   "execution_count": 70,
   "metadata": {},
   "outputs": [
    {
     "data": {
      "text/plain": [
       "['Python Programming Course',\n",
       " 'Data Mining and Machine Learning Course',\n",
       " 'Visual Analytics',\n",
       " 'Text Analytics',\n",
       " 'This Will Be Deleted']"
      ]
     },
     "execution_count": 70,
     "metadata": {},
     "output_type": "execute_result"
    }
   ],
   "source": [
    "data_science.courses"
   ]
  },
  {
   "cell_type": "code",
   "execution_count": 71,
   "metadata": {},
   "outputs": [],
   "source": [
    "data_science.remove_course(for_deletion)"
   ]
  },
  {
   "cell_type": "code",
   "execution_count": 72,
   "metadata": {},
   "outputs": [
    {
     "data": {
      "text/plain": [
       "['Python Programming Course',\n",
       " 'Data Mining and Machine Learning Course',\n",
       " 'Visual Analytics',\n",
       " 'Text Analytics']"
      ]
     },
     "execution_count": 72,
     "metadata": {},
     "output_type": "execute_result"
    }
   ],
   "source": [
    "data_science.courses"
   ]
  },
  {
   "cell_type": "code",
   "execution_count": 73,
   "metadata": {},
   "outputs": [],
   "source": [
    "for student in student_list:\n",
    "    python.add_student(student)\n",
    "    data.add_student(student)\n",
    "    va.add_student(student)\n",
    "    ta.add_student(student)"
   ]
  },
  {
   "cell_type": "code",
   "execution_count": 74,
   "metadata": {},
   "outputs": [],
   "source": [
    "grades = ['Pass', 'Fail']\n",
    "for student in student_list:\n",
    "    for i in range(5):\n",
    "        python.grade(student, 'Pass')\n",
    "        data.grade(student, 'Pass')\n",
    "        va.grade(student, 'Pass')\n",
    "\n",
    "for student in student_list[0:2]:\n",
    "    for i in range(5):\n",
    "        ta.grade(student, 'Fail')\n",
    "\n",
    "for student in student_list[2:4]:\n",
    "    for i in range(5):\n",
    "        ta.grade(student, 'Pass')\n"
   ]
  },
  {
   "cell_type": "markdown",
   "metadata": {},
   "source": [
    "### Course Graduates"
   ]
  },
  {
   "cell_type": "code",
   "execution_count": 75,
   "metadata": {},
   "outputs": [
    {
     "data": {
      "text/plain": [
       "{<__main__.Student at 0x7fea805a8160>: ['Pass',\n",
       "  'Pass',\n",
       "  'Pass',\n",
       "  'Pass',\n",
       "  'Pass'],\n",
       " <__main__.Student at 0x7fea805a8b50>: ['Pass',\n",
       "  'Pass',\n",
       "  'Pass',\n",
       "  'Pass',\n",
       "  'Pass'],\n",
       " <__main__.Student at 0x7fea805a83a0>: ['Pass',\n",
       "  'Pass',\n",
       "  'Pass',\n",
       "  'Pass',\n",
       "  'Pass'],\n",
       " <__main__.Student at 0x7fea805a8700>: ['Pass',\n",
       "  'Pass',\n",
       "  'Pass',\n",
       "  'Pass',\n",
       "  'Pass']}"
      ]
     },
     "execution_count": 75,
     "metadata": {},
     "output_type": "execute_result"
    }
   ],
   "source": [
    "python.student_grades"
   ]
  },
  {
   "cell_type": "code",
   "execution_count": 81,
   "metadata": {},
   "outputs": [
    {
     "data": {
      "text/plain": [
       "[<__main__.Student at 0x7fea805a8160>,\n",
       " <__main__.Student at 0x7fea805a8b50>,\n",
       " <__main__.Student at 0x7fea805a83a0>,\n",
       " <__main__.Student at 0x7fea805a8700>]"
      ]
     },
     "execution_count": 81,
     "metadata": {},
     "output_type": "execute_result"
    }
   ],
   "source": [
    "## The output is a list of objects (the student objects), which is on purpose for looping through on a graduate level\n",
    "python.passed_students"
   ]
  },
  {
   "cell_type": "markdown",
   "metadata": {},
   "source": [
    "### DiplomaProgram Graduates"
   ]
  },
  {
   "cell_type": "code",
   "execution_count": 78,
   "metadata": {},
   "outputs": [
    {
     "data": {
      "text/plain": [
       "['John Doe', 'Doe John']"
      ]
     },
     "execution_count": 78,
     "metadata": {},
     "output_type": "execute_result"
    }
   ],
   "source": [
    "data_science.graduated_students"
   ]
  },
  {
   "cell_type": "code",
   "execution_count": 79,
   "metadata": {},
   "outputs": [
    {
     "data": {
      "text/plain": [
       "['John Doe', 'Doe John']"
      ]
     },
     "execution_count": 79,
     "metadata": {},
     "output_type": "execute_result"
    }
   ],
   "source": [
    "data_science.students_with_distinction"
   ]
  },
  {
   "cell_type": "code",
   "execution_count": 80,
   "metadata": {},
   "outputs": [
    {
     "data": {
      "text/plain": [
       "['Jacob Hansen', 'William Fatcher']"
      ]
     },
     "execution_count": 80,
     "metadata": {},
     "output_type": "execute_result"
    }
   ],
   "source": [
    "data_science.students_who_failed"
   ]
  },
  {
   "cell_type": "code",
   "execution_count": 40,
   "metadata": {},
   "outputs": [
    {
     "name": "stdout",
     "output_type": "stream",
     "text": [
      "Students:\n",
      "Jacob Hansen\n",
      "William Fatcher\n",
      "John Doe\n",
      "Doe John\n",
      "\n",
      "Courses:\n",
      "Python Programming Course\n",
      "Data Mining and Machine Learning Course\n",
      "Visual Analytics\n",
      "Text Analytics\n"
     ]
    }
   ],
   "source": [
    "print(\"Students:\")\n",
    "for student in student_list:\n",
    "    print(student.name)\n",
    "\n",
    "print(\"\\nCourses:\")\n",
    "\n",
    "for course in course_list:\n",
    "    print(course.name)"
   ]
  },
  {
   "cell_type": "markdown",
   "metadata": {},
   "source": [
    "### Student Grades"
   ]
  },
  {
   "cell_type": "code",
   "execution_count": 44,
   "metadata": {},
   "outputs": [
    {
     "data": {
      "text/plain": [
       "{'Python Programming Course': ['Pass', 'Pass', 'Pass', 'Pass', 'Pass'],\n",
       " 'Data Mining and Machine Learning Course': ['Pass',\n",
       "  'Pass',\n",
       "  'Pass',\n",
       "  'Pass',\n",
       "  'Pass'],\n",
       " 'Visual Analytics': ['Pass', 'Pass', 'Pass', 'Pass', 'Pass'],\n",
       " 'Text Analytics': ['Fail', 'Fail', 'Fail', 'Fail', 'Fail']}"
      ]
     },
     "execution_count": 44,
     "metadata": {},
     "output_type": "execute_result"
    }
   ],
   "source": [
    "jacob.grades"
   ]
  },
  {
   "cell_type": "code",
   "execution_count": 46,
   "metadata": {},
   "outputs": [
    {
     "data": {
      "text/plain": [
       "['Python Programming Course',\n",
       " 'Data Mining and Machine Learning Course',\n",
       " 'Visual Analytics']"
      ]
     },
     "execution_count": 46,
     "metadata": {},
     "output_type": "execute_result"
    }
   ],
   "source": [
    "jacob.passed_courses"
   ]
  }
 ],
 "metadata": {
  "interpreter": {
   "hash": "31f2aee4e71d21fbe5cf8b01ff0e069b9275f58929596ceb00d14d90e3e16cd6"
  },
  "kernelspec": {
   "display_name": "Python 3.8.9 64-bit",
   "language": "python",
   "name": "python3"
  },
  "language_info": {
   "codemirror_mode": {
    "name": "ipython",
    "version": 3
   },
   "file_extension": ".py",
   "mimetype": "text/x-python",
   "name": "python",
   "nbconvert_exporter": "python",
   "pygments_lexer": "ipython3",
   "version": "3.9.7"
  },
  "orig_nbformat": 4
 },
 "nbformat": 4,
 "nbformat_minor": 2
}
