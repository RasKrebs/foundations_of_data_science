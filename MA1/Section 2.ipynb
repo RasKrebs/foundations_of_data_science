{
 "cells": [
  {
   "cell_type": "markdown",
   "metadata": {},
   "source": [
    "# Section 2\n",
    "### *Object-oriented Programing*"
   ]
  },
  {
   "cell_type": "code",
   "execution_count": 1,
   "metadata": {},
   "outputs": [],
   "source": [
    "# import libaries\n",
    "import names\n",
    "import random\n",
    "import numpy as np\n",
    "import pandas as pd"
   ]
  },
  {
   "cell_type": "markdown",
   "metadata": {},
   "source": [
    "## Creating Classes"
   ]
  },
  {
   "cell_type": "markdown",
   "metadata": {},
   "source": [
    "### Diploma Program Class"
   ]
  },
  {
   "cell_type": "code",
   "execution_count": 2,
   "metadata": {},
   "outputs": [],
   "source": [
    "class DiplomaProgram:\n",
    "    #Initializing\n",
    "    def __init__(self, name):\n",
    "        self.name = name\n",
    "        self.courses = []\n",
    "        self.graduated_students = []\n",
    "        \n",
    "    # Adding Course Function\n",
    "    def add_course(self, course):\n",
    "        \n",
    "        #Ensuring course does not already exists in list of courses\n",
    "        if course.name in self.courses:\n",
    "            return\n",
    "        else:\n",
    "            self.courses.append(course.name)\n",
    "    \n",
    "    # Remove course function\n",
    "    def remove_course(self, course):\n",
    "        self.course.pop(course.name)\n",
    "    \n",
    "    # Adding student to graduate list, but ensuring student does not already exists\n",
    "    def add_graduated_students(self, student):\n",
    "        if student.name in self.graduated_students:\n",
    "            return\n",
    "        else:\n",
    "            self.graduated_students.append(student.name)"
   ]
  },
  {
   "cell_type": "markdown",
   "metadata": {},
   "source": [
    "## Course Class"
   ]
  },
  {
   "cell_type": "code",
   "execution_count": 32,
   "metadata": {},
   "outputs": [],
   "source": [
    "class Course:\n",
    "    \n",
    "    #Initialize\n",
    "    def __init__(self, name, associated_program):\n",
    "        self.name = name\n",
    "        self.students = []\n",
    "        self.student_grades = {}\n",
    "        self.passed_students = []\n",
    "        \n",
    "        # We make sure to pass a graduate program at the initialization of the class. Both to access later, but also to make it so the courses is assigned to the corresponding program\n",
    "        self.program = associated_program\n",
    "        associated_program.add_course(self)\n",
    "        associated_program.graduated_students.clear()\n",
    "        \n",
    "        \n",
    "    #add student to students list\n",
    "    def add_student(self, student):\n",
    "        \n",
    "        #checks if student already exist in list\n",
    "        if student in self.students:\n",
    "            return(print(f'student {student.name} already added to list of students'))\n",
    "        else:\n",
    "            \n",
    "            #adds student if student does not exists already\n",
    "            student.grades[self.name] = []\n",
    "            self.students.append(student)\n",
    "            self.student_grades[student] = []\n",
    "            \n",
    "            student.courses.append(self.name)\n",
    "    \n",
    "    #Remove student from course\n",
    "    def remove_student(self, student):\n",
    "        self.students.remove(student)\n",
    "    \n",
    "    #Add grade\n",
    "    def grade(self, student, result):\n",
    "        self.student_grades[student].append(result)\n",
    "        student.grades[self.name].append(result)\n",
    "        \n",
    "        #Calling funciton for students that have passed, every time a grade is added to update it.\n",
    "        self.student_that_pass()\n",
    "    \n",
    "    #Remove Grade\n",
    "    def remove_grade(self, student, number):\n",
    "        self.student_grades[student].pop(number-1)\n",
    "    \n",
    "    #Function for finding students that have passed\n",
    "    def student_that_pass(self):\n",
    "        for key,value in self.student_grades.items():\n",
    "            if key in self.passed_students:\n",
    "                return\n",
    "            # If pass occurs more then three times\n",
    "            if value.count('Pass') >= 3:\n",
    "                self.passed_students.append(key)\n",
    "                key.passed_courses.append(self.name)\n",
    "                    \n",
    "            #If statement to see if length of passed courses for student equals length of passed courses for the associated program, then add them to graduate list\n",
    "                if len(key.passed_courses) == len(self.program.courses):\n",
    "                    self.program.add_graduated_students(key)"
   ]
  },
  {
   "cell_type": "code",
   "execution_count": 42,
   "metadata": {},
   "outputs": [
    {
     "data": {
      "text/plain": [
       "[<__main__.Student at 0x7fe5302f28e0>]"
      ]
     },
     "execution_count": 42,
     "metadata": {},
     "output_type": "execute_result"
    }
   ],
   "source": [
    "python.passed_students"
   ]
  },
  {
   "cell_type": "code",
   "execution_count": 28,
   "metadata": {},
   "outputs": [],
   "source": [
    "test = {'python': ['pass', 'fail', 'pass'],\n",
    "        'sql': ['pass', 'pass', 'pass']}"
   ]
  },
  {
   "cell_type": "code",
   "execution_count": 30,
   "metadata": {},
   "outputs": [
    {
     "name": "stdout",
     "output_type": "stream",
     "text": [
      "sql\n"
     ]
    }
   ],
   "source": [
    "for key, value in test.items():\n",
    "    if value.count('pass') == 3:\n",
    "        print(key)"
   ]
  },
  {
   "cell_type": "code",
   "execution_count": null,
   "metadata": {},
   "outputs": [],
   "source": []
  },
  {
   "cell_type": "markdown",
   "metadata": {},
   "source": [
    "## Student Class"
   ]
  },
  {
   "cell_type": "code",
   "execution_count": 33,
   "metadata": {},
   "outputs": [],
   "source": [
    "\n",
    "class Student:\n",
    "    def __init__(self, fName, lName, UUID):\n",
    "        self.fName = fName\n",
    "        self.lName = lName\n",
    "        self.name = fName + \" \" + lName\n",
    "        self.UUID = UUID\n",
    "        self.courses = []\n",
    "        self.grades = {}\n",
    "        self.passed_courses = []\n",
    "    \n",
    "    def __str__(self):\n",
    "        return(print(f\"Student Name: {self.name} \\nStudent Enrolled in: {', '.join(map(str, self.courses))}\\n\"))"
   ]
  },
  {
   "cell_type": "code",
   "execution_count": 34,
   "metadata": {},
   "outputs": [],
   "source": [
    "jacob = Student('Jacob', 'Hansen', 1)\n",
    "william = Student('William', 'Fatcher', 2)\n",
    "john = Student('John', 'Doe', 3)\n",
    "doe = Student('Doe', 'John', 4)\n",
    "\n",
    "student_list = [jacob, william, john, doe]"
   ]
  },
  {
   "cell_type": "code",
   "execution_count": 35,
   "metadata": {},
   "outputs": [],
   "source": [
    "#Creating Diploma Program With Associated Courses\n",
    "data_science = DiplomaProgram('Data Science')\n",
    "\n",
    "python = Course('Python Programming Course', data_science)\n",
    "data = Course('Data Mining and Machine Learning Course', data_science)\n",
    "va = Course('Visual Analytics', data_science)\n",
    "ta = Course('Text Analytics', data_science)\n",
    "\n",
    "\n"
   ]
  },
  {
   "cell_type": "code",
   "execution_count": 36,
   "metadata": {},
   "outputs": [],
   "source": [
    "for student in student_list:\n",
    "    python.add_student(student)\n",
    "    data.add_student(student)\n",
    "    va.add_student(student)\n",
    "    ta.add_student(student)"
   ]
  },
  {
   "cell_type": "code",
   "execution_count": 37,
   "metadata": {},
   "outputs": [],
   "source": [
    "grades = ['Pass', 'Fail']\n",
    "for student in student_list:\n",
    "    for i in range(5):\n",
    "        python.grade(student, 'Pass')\n",
    "        data.grade(student, 'Pass')\n",
    "        va.grade(student, 'Pass')\n",
    "        ta.grade(student, 'Pass')"
   ]
  },
  {
   "cell_type": "code",
   "execution_count": 41,
   "metadata": {},
   "outputs": [
    {
     "data": {
      "text/plain": [
       "[<__main__.Student at 0x7fe5302f28e0>]"
      ]
     },
     "execution_count": 41,
     "metadata": {},
     "output_type": "execute_result"
    }
   ],
   "source": [
    "python.passed_students"
   ]
  },
  {
   "cell_type": "code",
   "execution_count": 38,
   "metadata": {},
   "outputs": [
    {
     "data": {
      "text/plain": [
       "[<__main__.Student at 0x7fe5302f28e0>]"
      ]
     },
     "execution_count": 38,
     "metadata": {},
     "output_type": "execute_result"
    }
   ],
   "source": [
    "va.passed_students"
   ]
  },
  {
   "cell_type": "code",
   "execution_count": null,
   "metadata": {},
   "outputs": [],
   "source": [
    "data_science.graduated_students"
   ]
  },
  {
   "cell_type": "code",
   "execution_count": null,
   "metadata": {},
   "outputs": [],
   "source": [
    "student_list[5].name"
   ]
  },
  {
   "cell_type": "code",
   "execution_count": null,
   "metadata": {},
   "outputs": [],
   "source": [
    "student_list[12].__str__()"
   ]
  },
  {
   "cell_type": "code",
   "execution_count": null,
   "metadata": {},
   "outputs": [],
   "source": [
    "#DiplomaProgram\n",
    "data_science = DiplomaProgram()\n",
    "\n",
    "#Courses\n",
    "va = Course('Visual Analytics', data_science)\n",
    "fa = Course('Foundation', data_science)\n",
    "pe = Course('Penis', data_science)\n",
    "\n",
    "course_list = [va, fa, pe]\n",
    "\n",
    "#Student\n",
    "jacob = Student('jacob', 'hansen', 1234)\n",
    "\n",
    "\n",
    "#Adding student\n",
    "for course in course_list:\n",
    "    course.add_student(jacob)\n",
    "\n",
    "for i in range(4):\n",
    "    for course in course_list:\n",
    "        course.grade(jacob, 'Pass')\n",
    "\n"
   ]
  },
  {
   "cell_type": "code",
   "execution_count": null,
   "metadata": {},
   "outputs": [],
   "source": [
    "jacob.passed_courses"
   ]
  },
  {
   "cell_type": "code",
   "execution_count": null,
   "metadata": {},
   "outputs": [],
   "source": [
    "data_science.graduated_students"
   ]
  },
  {
   "cell_type": "code",
   "execution_count": null,
   "metadata": {},
   "outputs": [],
   "source": [
    "data_science.courses"
   ]
  },
  {
   "cell_type": "code",
   "execution_count": null,
   "metadata": {},
   "outputs": [],
   "source": [
    "to = Course('ToFisse', data_science)"
   ]
  },
  {
   "cell_type": "code",
   "execution_count": null,
   "metadata": {},
   "outputs": [],
   "source": []
  },
  {
   "cell_type": "code",
   "execution_count": null,
   "metadata": {},
   "outputs": [],
   "source": [
    "for value in va.passed_students:\n",
    "    print(value.name)"
   ]
  },
  {
   "cell_type": "code",
   "execution_count": null,
   "metadata": {},
   "outputs": [],
   "source": [
    "for values in va.student_grades[1234]:\n",
    "    counter = 0\n",
    "    if count('Pass') >= 3:\n",
    "        break\n",
    "    else:\n",
    "        print('Passed')\n",
    "        break"
   ]
  },
  {
   "cell_type": "code",
   "execution_count": null,
   "metadata": {},
   "outputs": [],
   "source": []
  },
  {
   "cell_type": "code",
   "execution_count": null,
   "metadata": {},
   "outputs": [],
   "source": []
  },
  {
   "cell_type": "markdown",
   "metadata": {},
   "source": [
    "## First Version of Course Class"
   ]
  },
  {
   "cell_type": "code",
   "execution_count": null,
   "metadata": {},
   "outputs": [],
   "source": [
    "class Course:\n",
    "    #Initialize\n",
    "    def __init__(self, name):\n",
    "        self.name = name\n",
    "        self.students = []\n",
    "        self.student_grades = {}\n",
    "        self.passed_students = []\n",
    "        #DiplomaProgram.__init__(self)\n",
    "        \n",
    "        \n",
    "    #add student uuid to students list\n",
    "    def add_student(self, student):\n",
    "        #checks if student uuid already exist in list\n",
    "        if student.UUID in self.students:\n",
    "            return(print(f'student {student.name} already added to list of students'))\n",
    "        else:\n",
    "            #adds student uuid if uuid does not exists (Using UUID, for GDPR purposes)\n",
    "            student.grades[self.name] = []\n",
    "            self.students.append(student.UUID)\n",
    "            self.student_grades[student.UUID] = []\n",
    "            student.courses.append(self.name)\n",
    "    \n",
    "    #Remove student from course\n",
    "    def remove_student(self, student):\n",
    "        self.students.remove(student.UUID)\n",
    "    \n",
    "    #Add grade\n",
    "    def grade(self, student, result):\n",
    "        self.student_grades[student.UUID].append(result)\n",
    "        student.grades[self.name].append(result)\n",
    "        self.student_that_pass()\n",
    "        \n",
    "    def remove_grade(self, student, number):\n",
    "        self.student_grades[student.UUID].pop(number-1)\n",
    "    \n",
    "    def student_that_pass(self, student):\n",
    "        for key,value in self.student_grades.items():\n",
    "            if value.count('Pass') >= 3:\n",
    "                if key in self.passed_students:\n",
    "                    break\n",
    "                else:\n",
    "                    self.passed_students.append(key)\n",
    "                    key.passed_courses.append(self.name)\n",
    "                    #DiplomaProgram.passed_students.append(key)\n",
    "        \n",
    "                \n",
    "                \n",
    "        "
   ]
  }
 ],
 "metadata": {
  "interpreter": {
   "hash": "31f2aee4e71d21fbe5cf8b01ff0e069b9275f58929596ceb00d14d90e3e16cd6"
  },
  "kernelspec": {
   "display_name": "Python 3.8.9 64-bit",
   "language": "python",
   "name": "python3"
  },
  "language_info": {
   "codemirror_mode": {
    "name": "ipython",
    "version": 3
   },
   "file_extension": ".py",
   "mimetype": "text/x-python",
   "name": "python",
   "nbconvert_exporter": "python",
   "pygments_lexer": "ipython3",
   "version": "3.9.7"
  },
  "orig_nbformat": 4
 },
 "nbformat": 4,
 "nbformat_minor": 2
}
