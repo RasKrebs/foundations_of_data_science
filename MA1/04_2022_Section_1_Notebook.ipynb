{
  "cells": [
    {
      "cell_type": "markdown",
      "metadata": {
        "id": "tOESos8gKpzG"
      },
      "source": [
        "# Mandatory Assingment 1"
      ]
    },
    {
      "cell_type": "markdown",
      "metadata": {
        "id": "4tgLvCxPML8O"
      },
      "source": [
        "# Section 1"
      ]
    },
    {
      "cell_type": "markdown",
      "metadata": {
        "id": "VNfdWdIDJkGt"
      },
      "source": [
        "## Question 1\n",
        "### Assignment on control structures"
      ]
    },
    {
      "cell_type": "code",
      "execution_count": null,
      "metadata": {
        "colab": {
          "base_uri": "https://localhost:8080/"
        },
        "id": "C6YaSI7khV1_",
        "outputId": "26c6cda9-18ee-4247-d52b-adaa52333e29"
      },
      "outputs": [
        {
          "name": "stdout",
          "output_type": "stream",
          "text": [
            "7316717653133062491922511967442657474235534919493496983520312774506326239578318016984801869478851843\n"
          ]
        }
      ],
      "source": [
        "#Input\n",
        "hundred_digit_str = int('7316717653133062491922511967442657474235534919493496983520312774506326239578318016984801869478851843')\n",
        "hundred_digit_number = int(hundred_digit_str)\n",
        "print(hundred_digit_number)"
      ]
    },
    {
      "cell_type": "code",
      "execution_count": null,
      "metadata": {
        "colab": {
          "base_uri": "https://localhost:8080/"
        },
        "id": "ewEDyd-KNTQg",
        "outputId": "eb590851-ccf0-4b9e-c0e8-cdf66a57d2b0"
      },
      "outputs": [
        {
          "name": "stdout",
          "output_type": "stream",
          "text": [
            "[7, 3, 1, 6, 7, 1, 7, 6, 5, 3, 1, 3, 3, 0, 6, 2, 4, 9, 1, 9, 2, 2, 5, 1, 1, 9, 6, 7, 4, 4, 2, 6, 5, 7, 4, 7, 4, 2, 3, 5, 5, 3, 4, 9, 1, 9, 4, 9, 3, 4, 9, 6, 9, 8, 3, 5, 2, 0, 3, 1, 2, 7, 7, 4, 5, 0, 6, 3, 2, 6, 2, 3, 9, 5, 7, 8, 3, 1, 8, 0, 1, 6, 9, 8, 4, 8, 0, 1, 8, 6, 9, 4, 7, 8, 8, 5, 1, 8, 4, 3]\n"
          ]
        }
      ],
      "source": [
        "hundred_digit_list = [int(x) for x in str(hundred_digit_number)]\n",
        "print(hundred_digit_list)"
      ]
    },
    {
      "cell_type": "code",
      "execution_count": null,
      "metadata": {
        "colab": {
          "base_uri": "https://localhost:8080/",
          "height": 35
        },
        "id": "V-Hcmt7aN83d",
        "outputId": "b258b046-6ca0-4ae8-8890-e41dad5b781d"
      },
      "outputs": [
        {
          "data": {
            "application/vnd.google.colaboratory.intrinsic+json": {
              "type": "string"
            },
            "text/plain": [
              "'7316717653133062491922511967442657474235534919493496983520312774506326239578318016984801869478851843'"
            ]
          },
          "execution_count": 20,
          "metadata": {},
          "output_type": "execute_result"
        }
      ],
      "source": [
        "str(hundred_digit_number)"
      ]
    },
    {
      "cell_type": "code",
      "execution_count": null,
      "metadata": {
        "colab": {
          "base_uri": "https://localhost:8080/"
        },
        "id": "iA7MiUZ5iEI7",
        "outputId": "8b52679f-fdfe-433c-9d40-0606cdd5f647"
      },
      "outputs": [
        {
          "name": "stdout",
          "output_type": "stream",
          "text": [
            "The highest possible product is 3888 and conists of 9, 6, 9, 8\n"
          ]
        }
      ],
      "source": [
        "# Solution for question 1:\n",
        "\n",
        "#transformation of given number into list\n",
        "hundred_digit_list = [int(x) for x in str(hundred_digit_number)]\n",
        "\n",
        "\n",
        "#initilisation of length as limit, counter as 3 to reach limit in the end and highest product as well as components of it\n",
        "length = len(hundred_digit_list)\n",
        "counter = 3\n",
        "highest_product = 0\n",
        "first = 0\n",
        "second = 0\n",
        "third = 0\n",
        "fourth = 0\n",
        "\n",
        "\n",
        "while counter < length:\n",
        "  product = hundred_digit_list[counter] * hundred_digit_list[counter - 1] * hundred_digit_list[counter - 2] * hundred_digit_list[counter - 3]\n",
        "  #highest product gets calculated as well as components get saved\n",
        "  if  product > highest_product:\n",
        "    highest_product = product\n",
        "    first = hundred_digit_list[counter - 3]\n",
        "    second = hundred_digit_list[counter - 2]\n",
        "    third = hundred_digit_list[counter - 1]\n",
        "    fourth = hundred_digit_list[counter]\n",
        "    counter += 1\n",
        "  else:\n",
        "    counter += 1\n",
        "\n",
        "print(\"The highest possible product is \" + str(highest_product) + \" and conists of \" \\\n",
        "      + str(first) + \", \" + str(second) + \", \" + str(third) + \", \" + str(fourth))"
      ]
    },
    {
      "cell_type": "code",
      "execution_count": null,
      "metadata": {
        "colab": {
          "base_uri": "https://localhost:8080/",
          "height": 35
        },
        "id": "q_Tq7vj0Y4RN",
        "outputId": "b7275332-1ac4-4094-b720-8098d4ced5aa"
      },
      "outputs": [
        {
          "data": {
            "application/vnd.google.colaboratory.intrinsic+json": {
              "type": "string"
            },
            "text/plain": [
              "'afdatsatactatcccaaaatttatchactagcc'"
            ]
          },
          "execution_count": 40,
          "metadata": {},
          "output_type": "execute_result"
        }
      ],
      "source": [
        "\"ccgatcahctatttaaaaccctatcatastadfa\"[::-1]"
      ]
    },
    {
      "cell_type": "markdown",
      "metadata": {
        "id": "6dtO0345nfPX"
      },
      "source": [
        "**Question 2**"
      ]
    },
    {
      "cell_type": "code",
      "execution_count": null,
      "metadata": {
        "colab": {
          "base_uri": "https://localhost:8080/"
        },
        "id": "HbU2Tf3fnqNR",
        "outputId": "657990bb-a9e2-45c3-852f-d1dbc07f7309"
      },
      "outputs": [
        {
          "name": "stdout",
          "output_type": "stream",
          "text": [
            "The even numbers in the given list are [2, 4, 6, 8]\n",
            "The odd numbers in the given list are [1, 3, 5, 7, 9]\n"
          ]
        }
      ],
      "source": [
        "list_01 = [1, 2, 3, 4, 5, 6, 7, 8, 9]\n",
        "#Initilisation of list of even and uneven numbers\n",
        "\n",
        "list_even = []\n",
        "list_odd = []\n",
        "\n",
        "for x in list_01:\n",
        "  if list_01[x - 1] % 2 == 0:\n",
        "    list_even.append(list_01[x - 1])\n",
        "  else:\n",
        "    list_odd.append(list_01[x - 1])\n",
        "\n",
        "print('The even numbers in the given list are ' + str(list_even))\n",
        "print('The odd numbers in the given list are ' + str(list_odd))\n"
      ]
    },
    {
      "cell_type": "markdown",
      "metadata": {
        "id": "HUyintDnpbYT"
      },
      "source": [
        "**Question 3**"
      ]
    },
    {
      "cell_type": "code",
      "execution_count": null,
      "metadata": {
        "colab": {
          "base_uri": "https://localhost:8080/"
        },
        "id": "Es_uA0MUPD-l",
        "outputId": "99a822fe-a556-4c92-be80-142b0250cbf4"
      },
      "outputs": [
        {
          "name": "stdout",
          "output_type": "stream",
          "text": [
            "Enter the string to be reversed: toll\n",
            "llot\n"
          ]
        }
      ],
      "source": [
        "def reverse(string):\n",
        "    if len(string) == 0:\n",
        "        return string\n",
        "    else:\n",
        "        return reverse(string[1:]) + string[0]\n",
        "a = str(input(\"Enter the string to be reversed: \"))\n",
        "print(reverse(a))"
      ]
    },
    {
      "cell_type": "code",
      "execution_count": null,
      "metadata": {
        "id": "LJ6wk_eFpdqv"
      },
      "outputs": [],
      "source": [
        "def turn_around(to_be_reversed):\n",
        " \n",
        " #read in string and initilize counter\n",
        " to_be_reversed_list = list(to_be_reversed)\n",
        " back_to_front = []\n",
        " subtractor = 1\n",
        " boundaries = len(to_be_reversed)\n",
        "\n",
        " while subtractor < boundaries + 1:\n",
        "   back_to_front.append(to_be_reversed_list[boundaries - subtractor])\n",
        "   subtractor += 1\n",
        "   \n",
        " back_to_front = ''.join(back_to_front)\n",
        " print(str(back_to_front))\n"
      ]
    },
    {
      "cell_type": "code",
      "execution_count": null,
      "metadata": {
        "colab": {
          "base_uri": "https://localhost:8080/"
        },
        "id": "Q60YRFSwrJFa",
        "outputId": "932b3184-2dcb-4b62-956c-84f3b9b09895"
      },
      "outputs": [
        {
          "name": "stdout",
          "output_type": "stream",
          "text": [
            "negahnepoc\n"
          ]
        }
      ],
      "source": [
        "turn_around('copenhagen')"
      ]
    },
    {
      "cell_type": "markdown",
      "metadata": {
        "id": "2FUAuT5TAy6c"
      },
      "source": [
        "**Question 4 a**"
      ]
    },
    {
      "cell_type": "code",
      "execution_count": null,
      "metadata": {
        "id": "7g222H3zA2ZV"
      },
      "outputs": [],
      "source": [
        "import math\n",
        "\n",
        "def question_4(word, input_str):\n",
        "  dict_for_word = {}\n",
        "  word_to_have={}\n",
        "\n",
        "  for letter in word:\n",
        "    if letter in dict_for_word:\n",
        "      word_to_have[letter] += 1\n",
        "    else:\n",
        "      dict_for_word[letter] = 0\n",
        "      word_to_have[letter] = 1\n",
        " \n",
        "  for letter in input_str:\n",
        "    if letter in dict_for_word:\n",
        "      dict_for_word[letter] += 1\n",
        "    else:\n",
        "      continue\n",
        "  \n",
        "  for key in dict_for_word:\n",
        "    dict_for_word[key] = dict_for_word[key]/word_to_have[key]\n",
        "  #for letter in input_str\n",
        "  return print(f'You can construct {word} {math.floor(min(dict_for_word.values()))} times')\n",
        "    "
      ]
    },
    {
      "cell_type": "code",
      "execution_count": null,
      "metadata": {
        "colab": {
          "base_uri": "https://localhost:8080/"
        },
        "id": "YQnGT38bZQu-",
        "outputId": "e5ad4620-381c-43f7-ec0c-57d9220d2789"
      },
      "outputs": [
        {
          "name": "stdout",
          "output_type": "stream",
          "text": [
            "You can construct cat 8 times\n"
          ]
        }
      ],
      "source": [
        "question_4('cat', \"ccgatcahctatttaaaaccctatcatastadfa\")"
      ]
    },
    {
      "cell_type": "code",
      "execution_count": null,
      "metadata": {
        "id": "CVn-cGawc61O"
      },
      "outputs": [],
      "source": [
        "test = {'a': 0}"
      ]
    },
    {
      "cell_type": "code",
      "execution_count": null,
      "metadata": {
        "colab": {
          "base_uri": "https://localhost:8080/"
        },
        "id": "gcMVH1ibhS7t",
        "outputId": "8e82b5f0-f599-42d2-a792-2b9916ca0a00"
      },
      "outputs": [
        {
          "data": {
            "text/plain": [
              "0"
            ]
          },
          "execution_count": 117,
          "metadata": {},
          "output_type": "execute_result"
        }
      ],
      "source": [
        "test['a']"
      ]
    },
    {
      "cell_type": "markdown",
      "metadata": {
        "id": "-mN_E3YmwcEG"
      },
      "source": [
        "**Question 5**"
      ]
    },
    {
      "cell_type": "code",
      "execution_count": null,
      "metadata": {
        "id": "xrkzm7G4-Crd"
      },
      "outputs": [],
      "source": [
        "import re\n",
        "\n",
        "def string_manipulator(string, separator):\n",
        "  #splitting string into list based between ' '\n",
        "  string_list = string.split(' ')\n",
        "  #join list items to one string\n",
        "  string_list = ''.join(string_list)\n",
        "  #split into numbers and characters\n",
        "  string_list = re.split('(\\d+)', string_list)\n",
        "  print(string_list)\n",
        "  length = len(string_list)\n",
        "  counter = 0\n",
        "  numbers_list = []\n",
        "  \n",
        "  while counter < length:\n",
        "    if string_list[counter].isdigit():\n",
        "      numbers_list.append(string_list[counter])\n",
        "      string_list[counter] = separator\n",
        "      counter += 1\n",
        "    else:\n",
        "      counter += 1\n",
        "\n",
        "  string_list = ''.join(string_list)\n",
        "  string_list = string_list.replace(',','')\n",
        "  numbers_list = separator.join(numbers_list)\n",
        "\n",
        "  final_tuple = tuple([string_list] + [numbers_list])\n",
        "\n",
        "  print(final_tuple)"
      ]
    },
    {
      "cell_type": "code",
      "execution_count": null,
      "metadata": {
        "colab": {
          "base_uri": "https://localhost:8080/"
        },
        "id": "nv7PAnm2OLyx",
        "outputId": "068bbe21-af94-485a-9cc2-ede2aba95e89"
      },
      "outputs": [
        {
          "name": "stdout",
          "output_type": "stream",
          "text": [
            "['CopenhagenhostedCop-', '09', 'summitatBellaCentrein', '2009', ',whichwasattendedbydelegatesfrommorethan', '100', 'countries']\n",
            "('CopenhagenhostedCop-_summitatBellaCentrein_whichwasattendedbydelegatesfrommorethan_countries', '09_2009_100')\n"
          ]
        }
      ],
      "source": [
        "string_manipulator(\"Copenhagen hosted Cop-09 summit at Bella Centre in 2009, which was attended by delegates from more than 100 countries\",\"_\")"
      ]
    }
  ],
  "metadata": {
    "colab": {
      "collapsed_sections": [],
      "provenance": []
    },
    "kernelspec": {
      "display_name": "Python 3",
      "name": "python3"
    },
    "language_info": {
      "name": "python"
    }
  },
  "nbformat": 4,
  "nbformat_minor": 0
}
